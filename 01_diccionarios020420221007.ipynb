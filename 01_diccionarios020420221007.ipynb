{
  "metadata": {
    "language_info": {
      "codemirror_mode": {
        "name": "python",
        "version": 3
      },
      "file_extension": ".py",
      "mimetype": "text/x-python",
      "name": "python",
      "nbconvert_exporter": "python",
      "pygments_lexer": "ipython3",
      "version": "3.8"
    },
    "kernelspec": {
      "name": "python",
      "display_name": "Pyolite",
      "language": "python"
    },
    "colab": {
      "provenance": [],
      "include_colab_link": true
    }
  },
  "nbformat_minor": 0,
  "nbformat": 4,
  "cells": [
    {
      "cell_type": "markdown",
      "metadata": {
        "id": "view-in-github",
        "colab_type": "text"
      },
      "source": [
        "<a href=\"https://colab.research.google.com/github/Leguty/DashboardSport-React/blob/main/01_diccionarios020420221007.ipynb\" target=\"_parent\"><img src=\"https://colab.research.google.com/assets/colab-badge.svg\" alt=\"Open In Colab\"/></a>"
      ]
    },
    {
      "cell_type": "code",
      "source": [
        "#SI BIEN EN ANALITICA NOS PODEMOS ENCONTRAR CON CUALQUIER TIPO DE ESTRUCTURA DE DATOS (DATA FRAME), CONOCER Y ENTENDER LOS\n",
        "#DICCIONARIOS, PROVEE ELEMENTOS DE GRAN IMPORTANCIA EN EL USO DE PYTHON CON LA ANALÍTICA.\n",
        "\n"
      ],
      "metadata": {
        "trusted": true,
        "id": "hMo0Va7dc1Nx"
      },
      "execution_count": null,
      "outputs": []
    },
    {
      "cell_type": "code",
      "source": [
        "#Los diccionarios en Python nos permiten almacenar una serie de 'mapeos' entre dos conjuntos de elementos, llamados keys and values (Claves y Valores). Todos los elementos en el diccionario se encuentran encerrados en un par de corchetes {}"
      ],
      "metadata": {
        "trusted": true,
        "id": "BRoVwqUmc1N1"
      },
      "execution_count": null,
      "outputs": []
    },
    {
      "cell_type": "code",
      "source": [
        "#Asumamos que tenemos una lista e personas con sus edades, la podemos declarar así:\n",
        "dicc = {\"Ana\": 20,\"Bruno\": 14,\"Cata\": 19,\"Dani\": 7,\"Esteban\": 12,\"Fede\": 5}"
      ],
      "metadata": {
        "trusted": true,
        "id": "yNG1M4dmc1N1"
      },
      "execution_count": 4,
      "outputs": []
    },
    {
      "cell_type": "code",
      "source": [
        "#La visualizamos en consola así:\n",
        "print(dicc)"
      ],
      "metadata": {
        "trusted": true,
        "id": "hBE34gVDc1N2",
        "outputId": "0bdae189-14b1-4ce2-8531-b6f116dfa471",
        "colab": {
          "base_uri": "https://localhost:8080/"
        }
      },
      "execution_count": 5,
      "outputs": [
        {
          "output_type": "stream",
          "name": "stdout",
          "text": [
            "{'Ana': 20, 'Bruno': 14, 'Cata': 19, 'Dani': 7, 'Esteban': 12, 'Fede': 5}\n"
          ]
        }
      ]
    },
    {
      "cell_type": "code",
      "source": [
        "#Si queremos ver el valor de uno de los items usamos []:\n",
        "print(dicc[\"Cata\"])"
      ],
      "metadata": {
        "trusted": true,
        "id": "BBVxm8utc1N2",
        "outputId": "b2163d10-814e-4a7d-953d-fe7bf7316222"
      },
      "execution_count": null,
      "outputs": [
        {
          "name": "stdout",
          "text": "19\n",
          "output_type": "stream"
        }
      ]
    },
    {
      "cell_type": "code",
      "source": [
        "#Si queremos saber el númeero de items del diccionario usamos 'len':\n",
        "print(len()dicc)"
      ],
      "metadata": {
        "trusted": true,
        "id": "N0Jq2jpxc1N3",
        "outputId": "529880d5-dc79-4fce-c3ad-44c2cc72b438"
      },
      "execution_count": null,
      "outputs": [
        {
          "name": "stdout",
          "text": "6\n",
          "output_type": "stream"
        }
      ]
    },
    {
      "cell_type": "code",
      "source": [
        "#En este putno es importante recordar que python permite distintos tipos de arreglos (También llamados colecciones) , y con todos trabaja de forma distinta:\n",
        "# 'Lista' es un arreglo ordenado mutable y permite duplicados.\n",
        "# 'Tupla' es un arreglo ordenado inmutable y permite duplicados.\n",
        "# 'Set' es un arreglo no ordenado, no indexado y no permite duplicados.\n",
        "# 'Diccionario'es un arreglo ordenado inmutable y no permite duplicados.\n"
      ],
      "metadata": {
        "trusted": true,
        "id": "Eau4a4Tlc1N3"
      },
      "execution_count": null,
      "outputs": []
    },
    {
      "cell_type": "code",
      "source": [
        "#EJEMPLO DE LISTA:\n",
        "#Las listas se usan para guardar items multiples en una sola variable:\n",
        "lista = [\"pera\", \"banana\", \"fresa\"]\n",
        "print(lista)"
      ],
      "metadata": {
        "trusted": true,
        "id": "VROLjUTPc1N3",
        "outputId": "23e1cb03-7d0e-4077-9a14-0ef10e8bf8d5"
      },
      "execution_count": null,
      "outputs": [
        {
          "name": "stdout",
          "text": "['pera', 'banana', 'fresa']\n",
          "output_type": "stream"
        }
      ]
    },
    {
      "cell_type": "code",
      "source": [
        "#EJEMPLO DE TUPLA:\n",
        "#Las tuplas se usan para guardar items multiples en una sola variable. La diferencia con las listas es que a la tupla no se puede cambiar, agregar o cambiar items:\n",
        "tupla = (\"fresas\", \"uvas\", \"mangos\")\n",
        "print(tupla)"
      ],
      "metadata": {
        "trusted": true,
        "id": "H9ZQ_a6oc1N4",
        "outputId": "0e42b38b-5122-43d3-c616-227786c7e67b"
      },
      "execution_count": null,
      "outputs": [
        {
          "name": "stdout",
          "text": "('fresas', 'uvas', 'mangos')\n",
          "output_type": "stream"
        }
      ]
    },
    {
      "cell_type": "code",
      "source": [
        "#EJEMPLO SET\n",
        "#Los sets se usan para guardar items multiples en una sola variable, sin embargo, auque son inmutables, se puede agregar y quitar items:\n",
        "set = {\"naranja\", \"pera\", \"uchuva\"}\n",
        "print(set)"
      ],
      "metadata": {
        "trusted": true,
        "id": "lsXPFyabc1N4",
        "outputId": "b4134eef-c69a-4393-e82a-4ae2d0025c4a"
      },
      "execution_count": null,
      "outputs": [
        {
          "name": "stdout",
          "text": "{'pera', 'naranja', 'uchuva'}\n",
          "output_type": "stream"
        }
      ]
    },
    {
      "cell_type": "code",
      "source": [
        "#Vamos a intentar varias accciones con los diccionarios mientras lo intenta usted mismo:\n",
        "#nuestro diccionario contiene claves y valores que hacen referencia a nombres y edades {'Ana': 20, 'Bruno': 14, 'Cata': 19, 'Dani': 7, 'Esteban': 12, 'Fede': 5}\n"
      ],
      "metadata": {
        "trusted": true,
        "id": "1xCRH1l-c1N5"
      },
      "execution_count": null,
      "outputs": []
    },
    {
      "cell_type": "code",
      "source": [
        "#Para acceder al valor de una de las claves, basta con asignarlo a una variable o simplemente pedirlo en consola con print. Por ejemplo, si nuestro diccionario se llama 'diccionario', para pedir el valor de cualquier clave:\n",
        "# diccionario[\"clave1\"], así:\n",
        "diccionario ={\"clave1\": 44,\"clave2\":88}\n",
        "print(diccionario[\"clave1\"])"
      ],
      "metadata": {
        "trusted": true,
        "id": "08bo-i2Fc1N5",
        "outputId": "250b4fb9-3518-4098-89a2-2eb6f4690dce"
      },
      "execution_count": null,
      "outputs": [
        {
          "name": "stdout",
          "text": "44\n",
          "output_type": "stream"
        }
      ]
    },
    {
      "cell_type": "code",
      "source": [
        "# Ahora inténtelo usted mismo con nuestro diccionario original de este notebook, solicite el valor de la clave \"Bruno\", donde deberá obtener el número 14, adelante."
      ],
      "metadata": {
        "trusted": true,
        "id": "b-06PlORc1N5"
      },
      "execution_count": null,
      "outputs": []
    },
    {
      "cell_type": "code",
      "source": [
        "dicc={\"bruno\":50}\n",
        "print(dicc)"
      ],
      "metadata": {
        "id": "-f2FANsbc1N5",
        "outputId": "9fe8b07b-8352-4595-c2e9-234bb4d1f3d3",
        "colab": {
          "base_uri": "https://localhost:8080/"
        }
      },
      "execution_count": 7,
      "outputs": [
        {
          "output_type": "stream",
          "name": "stdout",
          "text": [
            "{'bruno': 50}\n"
          ]
        }
      ]
    },
    {
      "cell_type": "code",
      "source": [
        "#Para cambiar el valor de alguna de las claves, basta con llamar la clave y asignarle el nuevo valor así:\n",
        "diccionario[\"clave1\"] = 77\n",
        "print(diccionario[\"clave1\"])"
      ],
      "metadata": {
        "trusted": true,
        "id": "OWgs1ufJc1N5",
        "outputId": "7c8398c8-d9c0-4ba7-c51b-6085c194010f"
      },
      "execution_count": null,
      "outputs": [
        {
          "name": "stdout",
          "text": "77\n",
          "output_type": "stream"
        }
      ]
    },
    {
      "cell_type": "code",
      "source": [
        "# Ahora inténtelo usted mismo con nuestro diccionario original de este notebook, cambie el valor de la clave \"Bruno\" por el valor 45, adelante."
      ],
      "metadata": {
        "trusted": true,
        "id": "LqGr2qW_c1N6"
      },
      "execution_count": null,
      "outputs": []
    },
    {
      "cell_type": "code",
      "source": [
        "dicc = {\"Ana\": 20,\"Bruno\": 14,\"Cata\": 19,\"Dani\": 7,\"Esteban\": 12,\"Fede\": 5}\n",
        "print(dicc)\n",
        "dicc['Bruno']=45\n",
        "print(dicc)"
      ],
      "metadata": {
        "id": "8pQAZcqec1N6",
        "outputId": "471ed308-79ea-4099-affe-ce1236d38e85",
        "colab": {
          "base_uri": "https://localhost:8080/"
        }
      },
      "execution_count": 9,
      "outputs": [
        {
          "output_type": "stream",
          "name": "stdout",
          "text": [
            "{'Ana': 20, 'Bruno': 14, 'Cata': 19, 'Dani': 7, 'Esteban': 12, 'Fede': 5}\n",
            "{'Ana': 20, 'Bruno': 45, 'Cata': 19, 'Dani': 7, 'Esteban': 12, 'Fede': 5}\n"
          ]
        }
      ]
    },
    {
      "cell_type": "code",
      "source": [
        "#Para adicionar una clave con valor a nuestro diccionario, solo basta con declar la nueva clave con su valor, así el diccionario quedará con una clave y valor nuevos. así:\n",
        "diccionario[\"clave3\"]=33\n",
        "print(diccionario)"
      ],
      "metadata": {
        "trusted": true,
        "id": "QXt5_zUBc1N6",
        "outputId": "ad54730e-12ed-4957-ae63-c24c1a300c16"
      },
      "execution_count": null,
      "outputs": [
        {
          "name": "stdout",
          "text": "{'clave1': 77, 'clave2': 88, 'clave3': 33}\n",
          "output_type": "stream"
        }
      ]
    },
    {
      "cell_type": "code",
      "source": [
        "# Ahora inténtelo usted mismo con nuestro diccionario original de este notebook, agregue una nueva clave de nombre \"Pepe\" con un valor de 23, adelante."
      ],
      "metadata": {
        "trusted": true,
        "id": "IjDhXNGkc1N6"
      },
      "execution_count": null,
      "outputs": []
    },
    {
      "cell_type": "code",
      "source": [
        "dicc[\"lady\"]=38\n",
        "print(dicc)"
      ],
      "metadata": {
        "id": "hYJqAG4Rc1N6",
        "outputId": "896e94d0-3949-4807-93f4-880e24c140c8",
        "colab": {
          "base_uri": "https://localhost:8080/"
        }
      },
      "execution_count": 10,
      "outputs": [
        {
          "output_type": "stream",
          "name": "stdout",
          "text": [
            "{'Ana': 20, 'Bruno': 45, 'Cata': 19, 'Dani': 7, 'Esteban': 12, 'Fede': 5, 'lady': 38}\n"
          ]
        }
      ]
    },
    {
      "cell_type": "code",
      "source": [
        "#Para remover un item a nuestro diccionario, se puede usar el método del indicando la clave, así el diccionario quedará sin el item indicado, así:\n",
        "del diccionario[\"clave3\"]\n",
        "print(diccionario)"
      ],
      "metadata": {
        "trusted": true,
        "id": "UJV-uYmHc1N7",
        "outputId": "51ce6bb3-d00b-412b-cb47-9e72c1e20746"
      },
      "execution_count": null,
      "outputs": [
        {
          "name": "stdout",
          "text": "{'clave1': 77, 'clave2': 88}\n",
          "output_type": "stream"
        }
      ]
    },
    {
      "cell_type": "code",
      "source": [
        "# Ahora inténtelo usted mismo con nuestro diccionario original de este notebook, remueva el item de clave \"Pepe\", debe obtener el diccionario así: {'Ana': 20, 'Bruno': 14, 'Cata': 19, 'Dani': 7, 'Esteban': 12, 'Fede': 5}, adelante."
      ],
      "metadata": {
        "trusted": true,
        "id": "GueOd8Kzc1N7"
      },
      "execution_count": null,
      "outputs": []
    },
    {
      "cell_type": "code",
      "source": [
        "del dicc[\"lady\"]\n",
        "print(dicc)"
      ],
      "metadata": {
        "id": "NAu17CwSc1N7",
        "outputId": "6c18e1a0-8cd9-4809-8ede-ea25d1fecf5b",
        "colab": {
          "base_uri": "https://localhost:8080/"
        }
      },
      "execution_count": 11,
      "outputs": [
        {
          "output_type": "stream",
          "name": "stdout",
          "text": [
            "{'Ana': 20, 'Bruno': 45, 'Cata': 19, 'Dani': 7, 'Esteban': 12, 'Fede': 5}\n"
          ]
        }
      ]
    },
    {
      "cell_type": "code",
      "source": [
        "#Para recorrer un diccionario, se puede usar el loop for, así se obtienen los item de forma separada según la configuración del loop, para obtener las claves, así:\n",
        "for x in diccionario:\n",
        "  print(x)"
      ],
      "metadata": {
        "trusted": true,
        "id": "a5qzjwpXc1N7",
        "outputId": "adcea88a-a85a-48bb-9a7c-b4f5224f992e"
      },
      "execution_count": null,
      "outputs": [
        {
          "name": "stdout",
          "text": "clave1\nclave2\n",
          "output_type": "stream"
        }
      ]
    },
    {
      "cell_type": "code",
      "source": [
        "#Para obtener los valores así:\n",
        "for x in diccionario:\n",
        "  print(diccionario[x])"
      ],
      "metadata": {
        "trusted": true,
        "id": "ZHQuUmCyc1N7",
        "outputId": "3a1ee915-b49a-495a-9b1e-c14797b03282"
      },
      "execution_count": null,
      "outputs": [
        {
          "name": "stdout",
          "text": "77\n88\n",
          "output_type": "stream"
        }
      ]
    },
    {
      "cell_type": "code",
      "source": [
        "#Para obtener claves y valores al mismo tiempo:\n",
        "for x in diccionario:\n",
        "  print(x,diccionario[x])"
      ],
      "metadata": {
        "trusted": true,
        "id": "JowTv9dxc1N7",
        "outputId": "7564274d-1802-4677-e815-5c1ede1bb998"
      },
      "execution_count": null,
      "outputs": [
        {
          "name": "stdout",
          "text": "clave1 77\nclave2 88\n",
          "output_type": "stream"
        }
      ]
    },
    {
      "cell_type": "code",
      "source": [
        "# Ahora inténtelo usted mismo con nuestro diccionario original de este notebook, recorra el diccionario, pidiendo claves, valores y luego ambos. Su resultado debe ser así:\n",
        "\n",
        "## CLAVES:\n",
        "#Ana\n",
        "#Bruno\n",
        "#Cata\n",
        "#Dani\n",
        "#Esteban\n",
        "#Fede\n",
        "\n",
        "\n",
        "## VALORES:\n",
        "#20\n",
        "#14\n",
        "#19\n",
        "#7\n",
        "#12\n",
        "#5\n",
        "\n",
        "## AMBOS:\n",
        "#Ana 20\n",
        "#Bruno 14\n",
        "#Cata 19\n",
        "#Dani 7\n",
        "#Esteban 12\n",
        "#Fede 5\n"
      ],
      "metadata": {
        "trusted": true,
        "id": "qKFckoI9c1N8"
      },
      "execution_count": null,
      "outputs": []
    },
    {
      "cell_type": "code",
      "source": [
        "for x in dicc:\n",
        "  print (x,dicc[x])\n"
      ],
      "metadata": {
        "id": "2Hb9Sj2bc1N8",
        "outputId": "e807fde9-d51a-4c18-ce06-77a00ad586a3",
        "colab": {
          "base_uri": "https://localhost:8080/"
        }
      },
      "execution_count": 14,
      "outputs": [
        {
          "output_type": "stream",
          "name": "stdout",
          "text": [
            "Ana 20\n",
            "Bruno 45\n",
            "Cata 19\n",
            "Dani 7\n",
            "Esteban 12\n",
            "Fede 5\n"
          ]
        }
      ]
    },
    {
      "cell_type": "code",
      "source": [
        "#Puede anidar diccionarios de la siguiente manera, lo que puede llegar a ser muy útil para crear y entender 'sets de datos' extensos:\n",
        "diccionario_anidado ={\"diccionario1\":{\"clave_d1-1\":\"val1-1\",\"clave_d1-2\":24},\"diccionario2\":{\"clave_d2-1\":\"val2-1\",\"clave_d2-2\":31}}\n",
        "print(diccionario_anidado)"
      ],
      "metadata": {
        "trusted": true,
        "id": "B6xqWHU5c1N8",
        "outputId": "418a32b6-2f18-4ae3-ab29-9a406c8f7418"
      },
      "execution_count": null,
      "outputs": [
        {
          "name": "stdout",
          "text": "{'diccionario1': {'clave_d1-1': 'val1-1', 'clave_d1-2': 24}, 'diccionario2': {'clave_d2-1': 'val2-1', 'clave_d2-2': 31}}\n",
          "output_type": "stream"
        }
      ]
    },
    {
      "cell_type": "code",
      "source": [
        "# Ahora inténtelo usted mismo con nuestro diccionario original y el de los ejemplos (dicc y diccionario), el resultado del diccionario anidado debe ser:\n",
        "# (Haga uso completo de lo indicado en el ejemplo para obtener el resultado esperado)\n",
        "#{'dicc': {'Ana': 20, 'Bruno': 14, 'Cata': 19, 'Dani': 7, 'Esteban': 12, 'Fede': 5}, 'diccionario': {'clave1': 44, 'clave2': 88}}"
      ],
      "metadata": {
        "trusted": true,
        "id": "2hQS1elqc1N8"
      },
      "execution_count": null,
      "outputs": []
    },
    {
      "cell_type": "code",
      "source": [
        "diccionario_anidado ={\"dicc\":{'Ana': 20, 'Bruno': 45, 'Cata': 19, 'Dani': 7, 'Esteban': 12, 'Fede': 5},\"diccionario\":{\"clave1\": 44,\"clave2\":88}}\n",
        "print(diccionario_anidado)"
      ],
      "metadata": {
        "id": "kz_CboTyc1N8",
        "outputId": "f43a6dd7-f925-4eca-821a-6fc559406ec1",
        "colab": {
          "base_uri": "https://localhost:8080/"
        }
      },
      "execution_count": 15,
      "outputs": [
        {
          "output_type": "stream",
          "name": "stdout",
          "text": [
            "{'dicc': {'Ana': 20, 'Bruno': 45, 'Cata': 19, 'Dani': 7, 'Esteban': 12, 'Fede': 5}, 'diccionario': {'clave1': 44, 'clave2': 88}}\n"
          ]
        }
      ]
    },
    {
      "cell_type": "code",
      "source": [
        "#Excelente, esperamos que esta base le sea de gran utilidad para lo que viene."
      ],
      "metadata": {
        "trusted": true,
        "id": "79Vm-eMnc1N8"
      },
      "execution_count": null,
      "outputs": []
    },
    {
      "cell_type": "code",
      "source": [],
      "metadata": {
        "id": "-grocEvfc1N8"
      },
      "execution_count": null,
      "outputs": []
    }
  ]
}